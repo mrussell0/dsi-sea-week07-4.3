{
 "cells": [
  {
   "cell_type": "markdown",
   "metadata": {},
   "source": [
    "## Lab 4.3. "
   ]
  },
  {
   "cell_type": "markdown",
   "metadata": {},
   "source": [
    "#### Setup your imports"
   ]
  },
  {
   "cell_type": "code",
   "execution_count": 38,
   "metadata": {
    "collapsed": false
   },
   "outputs": [],
   "source": [
    "import pandas as pd \n",
    "from sklearn.datasets import fetch_20newsgroups\n",
    "from sklearn.feature_extraction.text import CountVectorizer, TfidfVectorizer\n",
    "import numpy as np\n",
    "from sklearn.preprocessing import StandardScaler, Normalizer\n",
    "from sklearn.decomposition import PCA, TruncatedSVD\n",
    "from sklearn.linear_model import LogisticRegression\n",
    "from sklearn.cluster import KMeans\n",
    "from sklearn.pipeline import make_pipeline\n",
    "from sklearn import metrics\n",
    "import matplotlib.pyplot as plt\n",
    "from pprint import pprint"
   ]
  },
  {
   "cell_type": "markdown",
   "metadata": {},
   "source": [
    "#### 1. Pull the training set from the newsgroup data\n",
    "The data has 20 different categories. Try to shrink down to smaller number of groups according to the definition here:\n",
    "http://scikit-learn.org/stable/datasets/twenty_newsgroups.html"
   ]
  },
  {
   "cell_type": "code",
   "execution_count": 52,
   "metadata": {
    "collapsed": false
   },
   "outputs": [],
   "source": [
    "categories = [\n",
    "    #'alt.atheism',\n",
    "    'talk.religion.misc',\n",
    "     'rec.sport.baseball',\n",
    "     'comp.sys.mac.hardware',\n",
    "    #'comp.graphics',\n",
    "    'sci.space',\n",
    "]\n",
    "newsgroups_train = fetch_20newsgroups(subset='all', shuffle=True, random_state=42, categories=categories)"
   ]
  },
  {
   "cell_type": "code",
   "execution_count": 53,
   "metadata": {
    "collapsed": false
   },
   "outputs": [
    {
     "data": {
      "text/plain": [
       "['comp.sys.mac.hardware',\n",
       " 'rec.sport.baseball',\n",
       " 'sci.space',\n",
       " 'talk.religion.misc']"
      ]
     },
     "execution_count": 53,
     "metadata": {},
     "output_type": "execute_result"
    }
   ],
   "source": [
    "labels = newsgroups_train.target\n",
    "true_k = np.unique(labels).shape[0]\n",
    "# or true_k = len(list(newsgroups_train.target_names))\n",
    "list(newsgroups_train.target_names)"
   ]
  },
  {
   "cell_type": "code",
   "execution_count": 54,
   "metadata": {
    "collapsed": false
   },
   "outputs": [],
   "source": [
    "# mappy = {\n",
    "#     0: [0],\n",
    "#     1: [1,2,3,4,5],\n",
    "#     2: [6],\n",
    "#     3: [7,8,9,10],\n",
    "#     4: [11,12,13,14],\n",
    "#     5: [15],\n",
    "#     6: [16,17,18,19]\n",
    "# }\n",
    "# def getkey(num):\n",
    "#     for x, y in mappy.items():\n",
    "#         if num in y:\n",
    "#             return x\n",
    "# y_new = [getkey(num) for num in y]\n",
    "# y = y_new\n",
    "# labels = ['alt','comp','misc','rec','sci','soc','talk']\n",
    "# print labels"
   ]
  },
  {
   "cell_type": "markdown",
   "metadata": {},
   "source": [
    "#### 2. Create the vectorizer "
   ]
  },
  {
   "cell_type": "code",
   "execution_count": 69,
   "metadata": {
    "collapsed": false
   },
   "outputs": [],
   "source": [
    "vectorizer = TfidfVectorizer(max_df=0.5, \n",
    "                             max_features=1000,\n",
    "                             min_df=2,\n",
    "                             ngram_range=(1,1),\n",
    "                             stop_words='english',\n",
    "                             use_idf=True,\n",
    "                             sublinear_tf=False)\n",
    "\n",
    "X = vectorizer.fit_transform(newsgroups_train.data)"
   ]
  },
  {
   "cell_type": "code",
   "execution_count": 70,
   "metadata": {
    "collapsed": false
   },
   "outputs": [
    {
     "name": "stdout",
     "output_type": "stream",
     "text": [
      "n_samples: 3572, n_features: 1000\n"
     ]
    }
   ],
   "source": [
    "print(\"n_samples: %d, n_features: %d\" % X.shape)"
   ]
  },
  {
   "cell_type": "code",
   "execution_count": 71,
   "metadata": {
    "collapsed": true
   },
   "outputs": [],
   "source": [
    "# Vectorizer results are normalized, which makes KMeans behave as\n",
    "# spherical k-means for better results. Since LSA/SVD results are\n",
    "# not normalized, we have to redo the normalization."
   ]
  },
  {
   "cell_type": "code",
   "execution_count": 97,
   "metadata": {
    "collapsed": false
   },
   "outputs": [
    {
     "name": "stdout",
     "output_type": "stream",
     "text": [
      "0.693524430266\n"
     ]
    }
   ],
   "source": [
    "svd = TruncatedSVD(350)\n",
    "normalizer = Normalizer(copy=False)\n",
    "lsa = make_pipeline(svd, normalizer)\n",
    "x_lsa = lsa.fit_transform(X) # this creates an imput for kmeans\n",
    "\n",
    "\n",
    "explained_variance = svd.explained_variance_ratio_.sum()\n",
    "print explained_variance"
   ]
  },
  {
   "cell_type": "code",
   "execution_count": 101,
   "metadata": {
    "collapsed": false
   },
   "outputs": [
    {
     "data": {
      "text/plain": [
       "KMeans(algorithm='auto', copy_x=True, init='k-means++', max_iter=100,\n",
       "    n_clusters=4, n_init=30, n_jobs=1, precompute_distances='auto',\n",
       "    random_state=None, tol=0.0001, verbose=0)"
      ]
     },
     "execution_count": 101,
     "metadata": {},
     "output_type": "execute_result"
    }
   ],
   "source": [
    "km = KMeans(n_clusters=true_k, init='k-means++', max_iter=100, n_init=30, verbose=0)\n",
    "km.fit(x_lsa)"
   ]
  },
  {
   "cell_type": "code",
   "execution_count": 107,
   "metadata": {
    "collapsed": false
   },
   "outputs": [
    {
     "name": "stdout",
     "output_type": "stream",
     "text": [
      " Homogeneity : 0.65225662218\n",
      "Completeness : 0.682193886835\n",
      "V-measure : 0.666889445944\n",
      "Adjusted Rand Score : 0.606539558276\n",
      "Silhouette 0.0249197142678\n"
     ]
    }
   ],
   "source": [
    "#Score the model\n",
    "print 'Homogeneity :', metrics.homogeneity_score(labels, km.labels_)\n",
    "print 'Completeness :', metrics.completeness_score(labels, km.labels_)\n",
    "print 'V-measure :', metrics.v_measure_score(labels, km.labels_)\n",
    "print 'Adjusted Rand Score :', metrics.adjusted_rand_score(labels, km.labels_)\n",
    "print 'Silhouette', metrics.silhouette_score(x_lsa, km.labels_, sample_size=1000)"
   ]
  },
  {
   "cell_type": "markdown",
   "metadata": {},
   "source": [
    "#### 8. Check the performance of our kmeans"
   ]
  },
  {
   "cell_type": "markdown",
   "metadata": {},
   "source": [
    "#### Classification Report"
   ]
  },
  {
   "cell_type": "code",
   "execution_count": null,
   "metadata": {
    "collapsed": true
   },
   "outputs": [],
   "source": []
  },
  {
   "cell_type": "markdown",
   "metadata": {},
   "source": [
    "#### Confusion Matrix. Hint: create a map to translate the label between k-means clustering and the original target (newsgroups_train.target). "
   ]
  },
  {
   "cell_type": "code",
   "execution_count": null,
   "metadata": {
    "collapsed": true
   },
   "outputs": [],
   "source": []
  },
  {
   "cell_type": "markdown",
   "metadata": {},
   "source": [
    "#### Note: Repeat the lab with:\n",
    "- varying values of \"k\" \n",
    "- trying a different way to pick starting centroids ('k-means++' is the default method for centroids). For example, pick one point from each newsgroup. "
   ]
  },
  {
   "cell_type": "code",
   "execution_count": null,
   "metadata": {
    "collapsed": true
   },
   "outputs": [],
   "source": []
  },
  {
   "cell_type": "code",
   "execution_count": null,
   "metadata": {
    "collapsed": true
   },
   "outputs": [],
   "source": []
  }
 ],
 "metadata": {
  "anaconda-cloud": {},
  "kernelspec": {
   "display_name": "Python [default]",
   "language": "python",
   "name": "python2"
  },
  "language_info": {
   "codemirror_mode": {
    "name": "ipython",
    "version": 2
   },
   "file_extension": ".py",
   "mimetype": "text/x-python",
   "name": "python",
   "nbconvert_exporter": "python",
   "pygments_lexer": "ipython2",
   "version": "2.7.12"
  }
 },
 "nbformat": 4,
 "nbformat_minor": 0
}
